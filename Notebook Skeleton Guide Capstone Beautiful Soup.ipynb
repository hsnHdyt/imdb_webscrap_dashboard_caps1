{
 "cells": [
  {
   "cell_type": "markdown",
   "metadata": {
    "toc": true
   },
   "source": [
    "<h1>Table of Contents<span class=\"tocSkip\"></span></h1>\n",
    "<div class=\"toc\"><ul class=\"toc-item\"><li><span><a href=\"#Capstone-Webscrapping-using-BeautifulSoup\" data-toc-modified-id=\"Capstone-Webscrapping-using-BeautifulSoup-1\"><span class=\"toc-item-num\">1&nbsp;&nbsp;</span>Capstone Webscrapping using BeautifulSoup</a></span><ul class=\"toc-item\"><li><span><a href=\"#Requesting-the-Data-and-Creating-a-BeautifulSoup\" data-toc-modified-id=\"Requesting-the-Data-and-Creating-a-BeautifulSoup-1.1\"><span class=\"toc-item-num\">1.1&nbsp;&nbsp;</span>Requesting the Data and Creating a BeautifulSoup</a></span></li><li><span><a href=\"#Finding-the-right-key-to-scrap-the-data-&amp;-Extracting-the-right-information\" data-toc-modified-id=\"Finding-the-right-key-to-scrap-the-data-&amp;-Extracting-the-right-information-1.2\"><span class=\"toc-item-num\">1.2&nbsp;&nbsp;</span>Finding the right key to scrap the data &amp; Extracting the right information</a></span></li><li><span><a href=\"#Creating-data-frame-&amp;-Data-wrangling\" data-toc-modified-id=\"Creating-data-frame-&amp;-Data-wrangling-1.3\"><span class=\"toc-item-num\">1.3&nbsp;&nbsp;</span>Creating data frame &amp; Data wrangling</a></span></li><li><span><a href=\"#Finishing-This-Notebook-with-Your-Analysis-and-Conclusion\" data-toc-modified-id=\"Finishing-This-Notebook-with-Your-Analysis-and-Conclusion-1.4\"><span class=\"toc-item-num\">1.4&nbsp;&nbsp;</span>Finishing This Notebook with Your Analysis and Conclusion</a></span><ul class=\"toc-item\"><li><span><a href=\"#(Q1):-Find-the-seven-most-popular-imdb-movie-(by-imdb_rating)\" data-toc-modified-id=\"(Q1):-Find-the-seven-most-popular-imdb-movie-(by-imdb_rating)-1.4.1\"><span class=\"toc-item-num\">1.4.1&nbsp;&nbsp;</span><strong>(Q1)</strong>: Find the seven most popular imdb movie (by <code>imdb_rating</code>)</a></span></li><li><span><a href=\"#(Q2):-Find-the-seven-most-popular-imdb-movie-(by-users_vote)\" data-toc-modified-id=\"(Q2):-Find-the-seven-most-popular-imdb-movie-(by-users_vote)-1.4.2\"><span class=\"toc-item-num\">1.4.2&nbsp;&nbsp;</span><strong>(Q2)</strong>: Find the seven most popular imdb movie (by <code>users_vote</code>)</a></span></li><li><span><a href=\"#(Q3)-See-the-distribution-based-on-imdb_rating\" data-toc-modified-id=\"(Q3)-See-the-distribution-based-on-imdb_rating-1.4.3\"><span class=\"toc-item-num\">1.4.3&nbsp;&nbsp;</span><strong>(Q3)</strong> See the distribution based on <code>imdb_rating</code></a></span></li><li><span><a href=\"#(Q4)-See-the-distribution-based-on-users_vote\" data-toc-modified-id=\"(Q4)-See-the-distribution-based-on-users_vote-1.4.4\"><span class=\"toc-item-num\">1.4.4&nbsp;&nbsp;</span><strong>(Q4)</strong> See the distribution based on <code>users_vote</code></a></span></li></ul></li><li><span><a href=\"#Dashboard\" data-toc-modified-id=\"Dashboard-1.5\"><span class=\"toc-item-num\">1.5&nbsp;&nbsp;</span>Dashboard</a></span></li></ul></li></ul></div>"
   ]
  },
  {
   "cell_type": "markdown",
   "metadata": {},
   "source": [
    "# Capstone Webscrapping using BeautifulSoup\n",
    "\n",
    "As prerequisite for my bootcamp program, i decided to pick webscraping as my capstone project. The task is implement web scrap, analyze the data, and get the insight from it.\n",
    "\n",
    "For this topic i choose [IMDb](https://www.imdb.com), one of the the most pupular  online database of information related to films, television programs, home videos, video games, and streaming content online including cast, production crew and personal biographies, plot summaries, trivia, ratings, and fan and critical reviews. \n",
    "\n",
    "I will scrap [single web page from IMDb](https://www.imdb.com/search/title/?release_date=2019-01-01,2019-12-31) contains list movies that has released between Jan 1st, 2019 - Dec 31st, 2019 sort by the most popular. \n",
    "<img src=\"imdb_screenshot1.png\">\n",
    "For web scrap i use BeautifulSoup - *a Python library for pulling data out of HTML and XML files*. \n",
    "\n",
    "After that i use Pandas and Matplotlib for analyze and visualize the data. Finally i create dashboard to display the insight data using Flask. Basically i combine the web scrap topic and data visualisation task  into this project.\n",
    "\n",
    "Through this notebook i will explain the stpes from the scrap until the the visualisation process. "
   ]
  },
  {
   "cell_type": "markdown",
   "metadata": {},
   "source": [
    "## Requesting the Data and Creating a BeautifulSoup\n",
    "\n",
    "Let's begin with requesting the web from the site with `get` method."
   ]
  },
  {
   "cell_type": "code",
   "execution_count": 3,
   "metadata": {
    "ExecuteTime": {
     "end_time": "2020-12-01T04:38:43.421036Z",
     "start_time": "2020-12-01T04:38:39.461798Z"
    }
   },
   "outputs": [],
   "source": [
    "import requests\n",
    "\n",
    "url_get = requests.get('https://www.imdb.com/search/title/?release_date=2019-01-01,2019-12-31')"
   ]
  },
  {
   "cell_type": "markdown",
   "metadata": {},
   "source": [
    "To visualize what exactly you get from the `request.get`, we can use .content so ee what we exactly get, in here i slice it so it won't make our screen full of the html we get from the page. You can delete the slicing if you want to see what we fully get."
   ]
  },
  {
   "cell_type": "code",
   "execution_count": 4,
   "metadata": {
    "ExecuteTime": {
     "end_time": "2020-12-01T04:38:43.434038Z",
     "start_time": "2020-12-01T04:38:43.423036Z"
    }
   },
   "outputs": [
    {
     "data": {
      "text/plain": [
       "b'\\n<!DOCTYPE html>\\n<html\\n    xmlns:og=\"http://ogp.me/ns#\"\\n    xmlns:fb=\"http://www.facebook.com/2008/fbml\">\\n    <head>\\n         \\n        <meta charset=\"utf-8\">\\n        <meta http-equiv=\"X-UA-Compatible\" content=\"IE=edge\">\\n\\n    <meta name=\"apple-itunes-app\" content=\"app-id=342792525, app-argument=imdb:///?src=mdot\">\\n\\n\\n\\n        <script type=\"text/javascript\">var IMDbTimer={starttime: new Date().getTime(),pt:\\'java\\'};</script>\\n\\n<script>\\n    if (typeof uet == \\'function\\') {\\n      uet(\"bb\", \"LoadTitle\", {wb: 1});\\n    }\\n</script>\\n  <script>(function(t){ (t.events = t.events || {})[\"csm_head_pre_title\"] = new Date().getTime(); })(IMDbTimer);</script>\\n        <title>Released between 2019-01-01 and 2019-12-31\\n(Sorted by Popularity Ascending) - IMDb</title>\\n  <script>(function(t)'"
      ]
     },
     "execution_count": 4,
     "metadata": {},
     "output_type": "execute_result"
    }
   ],
   "source": [
    "url_get.content[1:777]"
   ]
  },
  {
   "cell_type": "markdown",
   "metadata": {},
   "source": [
    "As we can see we get a very unstructured and complex html, which actually contains the codes needed to show the webpages on your web browser. But we as human still confused what and where we can use that piece of code, so here where we use the beautifulsoup. Beautiful soup class will result a beautifulsoup object. Beautiful Soup transforms a complex HTML document into a complex tree of Python objects. \n",
    "\n",
    "Let's make Beautiful soup object and feel free to explore the object here."
   ]
  },
  {
   "cell_type": "code",
   "execution_count": 5,
   "metadata": {
    "ExecuteTime": {
     "end_time": "2020-12-01T04:38:43.995855Z",
     "start_time": "2020-12-01T04:38:43.437039Z"
    }
   },
   "outputs": [
    {
     "name": "stdout",
     "output_type": "stream",
     "text": [
      "<class 'bs4.BeautifulSoup'>\n"
     ]
    }
   ],
   "source": [
    "from bs4 import BeautifulSoup \n",
    "\n",
    "soup = BeautifulSoup(url_get.content,\"html.parser\")\n",
    "print(type(soup))"
   ]
  },
  {
   "cell_type": "markdown",
   "metadata": {},
   "source": [
    "## Finding the right key to scrap the data & Extracting the right information"
   ]
  },
  {
   "cell_type": "markdown",
   "metadata": {},
   "source": [
    "Find the key and put the key into the `.find()` Put all the exploring the right key at this cell. (please change this markdown with your explanation)"
   ]
  },
  {
   "cell_type": "code",
   "execution_count": 6,
   "metadata": {
    "ExecuteTime": {
     "end_time": "2020-12-01T04:38:44.100885Z",
     "start_time": "2020-12-01T04:38:43.997857Z"
    }
   },
   "outputs": [
    {
     "name": "stdout",
     "output_type": "stream",
     "text": [
      "div class=\"lister-list\">\n",
      " <div class=\"lister-item mode-advanced\">\n",
      "  <div class=\"lister-top-right\">\n",
      "   <div class=\"ribbonize\" data-caller=\"filmosearch\" data-tconst=\"tt8111088\">\n",
      "   </div>\n",
      "  </div>\n",
      "  <div class=\"lister-item-image float-left\">\n",
      "   <a href=\"/title/tt8111088/\">\n",
      "    <img alt=\"The Mandalorian\" class=\"loadlate\" data-tconst=\"tt8111088\" height=\"98\" loadlate=\"https://m.media-amazon.com/images/M/MV5BZDhlMzY0ZGItZTcyNS00ZTAxLWIyMmYtZGQ2ODg5OWZiYmJkXkEyXkFqcGdeQXVyODkzNTgxMDg@._V1_UX67_CR0,0,6\n"
     ]
    }
   ],
   "source": [
    "container_list = soup.find('div', attrs={'class':'lister-list'})\n",
    "print(container_list.prettify()[1:500])"
   ]
  },
  {
   "cell_type": "markdown",
   "metadata": {},
   "source": [
    "Do the scrapping process here (please change this markdown with your explanation)"
   ]
  },
  {
   "cell_type": "code",
   "execution_count": 7,
   "metadata": {
    "ExecuteTime": {
     "end_time": "2020-12-01T04:38:44.241877Z",
     "start_time": "2020-12-01T04:38:44.102866Z"
    },
    "scrolled": true
   },
   "outputs": [
    {
     "data": {
      "text/plain": [
       "[('The Mandalorian', '8.7', '221,588', '<blank>'),\n",
       " ('The Boys', '8.7', '218,789', '<blank>'),\n",
       " ('His Dark Materials', '7.9', '42,536', '<blank>'),\n",
       " ('Virgin River', '7.5', '12,605', '<blank>'),\n",
       " ('Mosul', '7.3', '10,824', '<blank>'),\n",
       " ('Knives Out', '7.9', '420,830', '82        '),\n",
       " ('The Witcher', '8.2', '283,050', '<blank>'),\n",
       " ('The Gentlemen', '7.8', '208,560', '51        '),\n",
       " ('1917', '8.3', '394,659', '78        '),\n",
       " ('Once Upon a Time... in Hollywood', '7.6', '531,618', '83        '),\n",
       " ('Euphoria', '8.4', '53,838', '<blank>'),\n",
       " ('Jojo Rabbit', '7.9', '279,166', '58        '),\n",
       " ('Buddy Games', '5.0', '728', '22        '),\n",
       " ('Gisaengchung', '8.6', '513,722', '96        '),\n",
       " ('Avengers: Endgame', '8.4', '783,374', '78        '),\n",
       " ('Joker', '8.5', '901,863', '59        '),\n",
       " ('Bombshell', '6.8', '80,287', '64        '),\n",
       " ('Last Christmas', '6.5', '42,772', '50        '),\n",
       " ('Star Wars: Episode IX - The Rise of Skywalker',\n",
       "  '6.6',\n",
       "  '359,729',\n",
       "  '53        '),\n",
       " ('Wayne', '8.4', '8,638', '<blank>'),\n",
       " ('Warrior', '8.2', '13,367', '<blank>'),\n",
       " ('Midsommar', '7.1', '191,422', '72        '),\n",
       " ('Sex Education', '8.3', '149,317', '<blank>'),\n",
       " ('Chernobyl', '9.4', '514,500', '<blank>'),\n",
       " ('The Spanish Princess', '6.8', '4,345', '<blank>'),\n",
       " ('Undercover', '7.9', '9,551', '<blank>'),\n",
       " ('Dreamland', '5.7', '1,329', '57        '),\n",
       " (\"The Dead Don't Die\", '5.5', '50,620', '53        '),\n",
       " ('Klaus', '8.2', '80,873', '65        '),\n",
       " ('Cats', '2.8', '39,418', '32        '),\n",
       " ('The Morning Show', '8.4', '45,979', '<blank>'),\n",
       " ('Ford v Ferrari', '8.1', '275,633', '81        '),\n",
       " ('Doctor Sleep', '7.3', '136,219', '59        '),\n",
       " ('Diego Maradona', '7.7', '12,168', '78        '),\n",
       " ('Tayna pechati drakona', '4.7', '3,196', '32        '),\n",
       " ('Little Women', '7.8', '132,994', '91        '),\n",
       " ('The Irishman', '7.9', '314,873', '94        '),\n",
       " ('After', '5.3', '35,219', '30        '),\n",
       " ('Jumanji: The Next Level', '6.7', '180,149', '58        '),\n",
       " ('Terminator: Dark Fate', '6.2', '144,557', '54        '),\n",
       " ('The Lighthouse', '7.5', '133,618', '83        '),\n",
       " ('Doom Patrol', '7.9', '32,370', '<blank>'),\n",
       " ('Watchmen', '8.1', '86,234', '<blank>'),\n",
       " ('Evil', '7.6', '10,858', '<blank>'),\n",
       " ('The Peanut Butter Falcon', '7.6', '60,951', '70        '),\n",
       " ('Uncut Gems', '7.4', '210,614', '91        '),\n",
       " ('The Unicorn', '7.2', '2,691', '<blank>'),\n",
       " ('Dark Waters', '7.6', '53,126', '73        '),\n",
       " ('Polar', '6.3', '73,409', '19        '),\n",
       " ('Yes, God, Yes', '6.1', '6,454', '71        ')]"
      ]
     },
     "execution_count": 7,
     "metadata": {},
     "output_type": "execute_result"
    }
   ],
   "source": [
    "#import re\n",
    "\n",
    "#1. find the container list in <div>\n",
    "movielist = container_list.find_all('div', attrs={'class':'lister-item mode-advanced'})\n",
    "len(movielist)\n",
    "#movielist\n",
    "#type(movielist)\n",
    "\n",
    "#2. Grab the title in <h3> nested in step(1)\n",
    "temp_movieset = []\n",
    "titles = []\n",
    "imdbratings = []\n",
    "votes = []\n",
    "metascores = []\n",
    "\n",
    "for movie in movielist:\n",
    "    #get titles\n",
    "    titles = movie.find('div', attrs={'class':'lister-item-content'})\\\n",
    "            .find('h3', attrs={'class':'lister-item-header'})\\\n",
    "            .find('a').text.strip()\n",
    "    \n",
    "    #get imdb rating\n",
    "    imdbratings = movie.find('div', attrs={'class':'lister-item-content'})\\\n",
    "                    .find('div', attrs={'class':'ratings-bar'})\\\n",
    "                    .find('strong').text.strip()                    \n",
    "    \n",
    "    #get user's votes\n",
    "    #vote = container.find('span', attrs = {'name':'nv'})['data-value']\n",
    "    votes = movie.find('div', attrs={'class':'lister-item-content'})\\\n",
    "            .find('p', attrs={'class':'sort-num_votes-visible'})\\\n",
    "            .find('span', attrs={'name':'nv'}).text.strip()\n",
    "            #.find('span', attrs={'name':'nv'})['data-value']\n",
    "    \n",
    "    #get metascore\n",
    "    if (movie.find('div', attrs={'class':'lister-item-content'})\\\n",
    "                    .find('div', attrs={'class':'ratings-bar'})\\\n",
    "                    .find('div', attrs={'class':'inline-block ratings-metascore'})) is None:\n",
    "        metascores = \"<blank>\"\n",
    "    else:\n",
    "        metascores = movie.find('div', attrs={'class':'lister-item-content'})\\\n",
    "                    .find('div', attrs={'class':'ratings-bar'})\\\n",
    "                    .find('div', attrs={'class':'inline-block ratings-metascore'}).contents[1]\\\n",
    "                    .contents[0]\n",
    "                    #.find('span')#stript.strip()\n",
    "                    #.find('span', class_=re.compile(\"metascore\"))#.text.strip()\n",
    "                    \n",
    "        \n",
    "    #temp_movieset.append((titles, float(imdbratings), int(votes), metascores))\n",
    "    temp_movieset.append((titles, imdbratings, votes, metascores))\n",
    "    \n",
    "temp_movieset"
   ]
  },
  {
   "cell_type": "markdown",
   "metadata": {},
   "source": [
    "since the are several movies that has no data _'metascore'_, so we will remove from our dataset"
   ]
  },
  {
   "cell_type": "markdown",
   "metadata": {},
   "source": [
    "## Creating data frame & Data wrangling"
   ]
  },
  {
   "cell_type": "markdown",
   "metadata": {},
   "source": [
    "Put the array into dataframe"
   ]
  },
  {
   "cell_type": "code",
   "execution_count": 8,
   "metadata": {
    "ExecuteTime": {
     "end_time": "2020-12-01T04:38:51.202834Z",
     "start_time": "2020-12-01T04:38:44.243877Z"
    }
   },
   "outputs": [
    {
     "data": {
      "text/html": [
       "<div>\n",
       "<style scoped>\n",
       "    .dataframe tbody tr th:only-of-type {\n",
       "        vertical-align: middle;\n",
       "    }\n",
       "\n",
       "    .dataframe tbody tr th {\n",
       "        vertical-align: top;\n",
       "    }\n",
       "\n",
       "    .dataframe thead th {\n",
       "        text-align: right;\n",
       "    }\n",
       "</style>\n",
       "<table border=\"1\" class=\"dataframe\">\n",
       "  <thead>\n",
       "    <tr style=\"text-align: right;\">\n",
       "      <th></th>\n",
       "      <th>title</th>\n",
       "      <th>imdb_rating</th>\n",
       "      <th>users_vote</th>\n",
       "      <th>metascore</th>\n",
       "    </tr>\n",
       "  </thead>\n",
       "  <tbody>\n",
       "    <tr>\n",
       "      <th>0</th>\n",
       "      <td>The Mandalorian</td>\n",
       "      <td>8.7</td>\n",
       "      <td>221,588</td>\n",
       "      <td>&lt;blank&gt;</td>\n",
       "    </tr>\n",
       "    <tr>\n",
       "      <th>1</th>\n",
       "      <td>The Boys</td>\n",
       "      <td>8.7</td>\n",
       "      <td>218,789</td>\n",
       "      <td>&lt;blank&gt;</td>\n",
       "    </tr>\n",
       "    <tr>\n",
       "      <th>2</th>\n",
       "      <td>His Dark Materials</td>\n",
       "      <td>7.9</td>\n",
       "      <td>42,536</td>\n",
       "      <td>&lt;blank&gt;</td>\n",
       "    </tr>\n",
       "    <tr>\n",
       "      <th>3</th>\n",
       "      <td>Virgin River</td>\n",
       "      <td>7.5</td>\n",
       "      <td>12,605</td>\n",
       "      <td>&lt;blank&gt;</td>\n",
       "    </tr>\n",
       "    <tr>\n",
       "      <th>4</th>\n",
       "      <td>Mosul</td>\n",
       "      <td>7.3</td>\n",
       "      <td>10,824</td>\n",
       "      <td>&lt;blank&gt;</td>\n",
       "    </tr>\n",
       "  </tbody>\n",
       "</table>\n",
       "</div>"
      ],
      "text/plain": [
       "                title imdb_rating users_vote metascore\n",
       "0     The Mandalorian         8.7    221,588   <blank>\n",
       "1            The Boys         8.7    218,789   <blank>\n",
       "2  His Dark Materials         7.9     42,536   <blank>\n",
       "3        Virgin River         7.5     12,605   <blank>\n",
       "4               Mosul         7.3     10,824   <blank>"
      ]
     },
     "execution_count": 8,
     "metadata": {},
     "output_type": "execute_result"
    }
   ],
   "source": [
    "import pandas as pd\n",
    "\n",
    "df = pd.DataFrame(temp_movieset, columns=('title', 'imdb_rating', 'users_vote', 'metascore'))\n",
    "df.head()"
   ]
  },
  {
   "cell_type": "markdown",
   "metadata": {},
   "source": [
    "Do the data cleaning here (please change this markdown with your explanation of what you do for data wrangling)"
   ]
  },
  {
   "cell_type": "code",
   "execution_count": 9,
   "metadata": {
    "ExecuteTime": {
     "end_time": "2020-12-01T04:38:51.210838Z",
     "start_time": "2020-12-01T04:38:51.204825Z"
    }
   },
   "outputs": [
    {
     "data": {
      "text/plain": [
       "title          object\n",
       "imdb_rating    object\n",
       "users_vote     object\n",
       "metascore      object\n",
       "dtype: object"
      ]
     },
     "execution_count": 9,
     "metadata": {},
     "output_type": "execute_result"
    }
   ],
   "source": [
    "df.dtypes"
   ]
  },
  {
   "cell_type": "code",
   "execution_count": 10,
   "metadata": {
    "ExecuteTime": {
     "end_time": "2020-12-01T04:38:51.222826Z",
     "start_time": "2020-12-01T04:38:51.214824Z"
    }
   },
   "outputs": [
    {
     "data": {
      "text/plain": [
       "str"
      ]
     },
     "execution_count": 10,
     "metadata": {},
     "output_type": "execute_result"
    }
   ],
   "source": [
    "type(df['imdb_rating'][0])"
   ]
  },
  {
   "cell_type": "code",
   "execution_count": 11,
   "metadata": {
    "ExecuteTime": {
     "end_time": "2020-12-01T04:38:51.233826Z",
     "start_time": "2020-12-01T04:38:51.226826Z"
    }
   },
   "outputs": [
    {
     "data": {
      "text/plain": [
       "str"
      ]
     },
     "execution_count": 11,
     "metadata": {},
     "output_type": "execute_result"
    }
   ],
   "source": [
    "type(df['users_vote'][0])"
   ]
  },
  {
   "cell_type": "markdown",
   "metadata": {},
   "source": [
    "- convert `imdb_rating` data type from `string` to `float`\n",
    "- convert `users_vote` data type from `string` to `int`"
   ]
  },
  {
   "cell_type": "code",
   "execution_count": 12,
   "metadata": {
    "ExecuteTime": {
     "end_time": "2020-12-01T04:38:51.244828Z",
     "start_time": "2020-12-01T04:38:51.236826Z"
    }
   },
   "outputs": [
    {
     "data": {
      "text/plain": [
       "numpy.float64"
      ]
     },
     "execution_count": 12,
     "metadata": {},
     "output_type": "execute_result"
    }
   ],
   "source": [
    "df['imdb_rating'] = df['imdb_rating'].astype('float64')\n",
    "type(df['imdb_rating'][0])"
   ]
  },
  {
   "cell_type": "code",
   "execution_count": 13,
   "metadata": {
    "ExecuteTime": {
     "end_time": "2020-12-01T04:38:51.288830Z",
     "start_time": "2020-12-01T04:38:51.246826Z"
    }
   },
   "outputs": [
    {
     "data": {
      "text/plain": [
       "numpy.int32"
      ]
     },
     "execution_count": 13,
     "metadata": {},
     "output_type": "execute_result"
    }
   ],
   "source": [
    "df['users_vote'] = df['users_vote'].str.replace(',','')\n",
    "df['users_vote'] = df['users_vote'].astype('int')\n",
    "type(df['users_vote'][0])"
   ]
  },
  {
   "cell_type": "markdown",
   "metadata": {},
   "source": [
    "Because several movies in datasets has not `metascore` value, we will drop `metascore` from out dataframe and use `imdb score` and `users vote` fo the data analysis"
   ]
  },
  {
   "cell_type": "code",
   "execution_count": 14,
   "metadata": {
    "ExecuteTime": {
     "end_time": "2020-12-01T04:38:51.302846Z",
     "start_time": "2020-12-01T04:38:51.291832Z"
    }
   },
   "outputs": [
    {
     "data": {
      "text/plain": [
       "title           object\n",
       "imdb_rating    float64\n",
       "users_vote       int32\n",
       "dtype: object"
      ]
     },
     "execution_count": 14,
     "metadata": {},
     "output_type": "execute_result"
    }
   ],
   "source": [
    "df.drop('metascore', inplace=True, axis=1)\n",
    "df.dtypes"
   ]
  },
  {
   "cell_type": "markdown",
   "metadata": {},
   "source": [
    "set `Title` as dataframe index"
   ]
  },
  {
   "cell_type": "code",
   "execution_count": 15,
   "metadata": {
    "ExecuteTime": {
     "end_time": "2020-12-01T04:38:51.321834Z",
     "start_time": "2020-12-01T04:38:51.305832Z"
    },
    "scrolled": true
   },
   "outputs": [
    {
     "data": {
      "text/html": [
       "<div>\n",
       "<style scoped>\n",
       "    .dataframe tbody tr th:only-of-type {\n",
       "        vertical-align: middle;\n",
       "    }\n",
       "\n",
       "    .dataframe tbody tr th {\n",
       "        vertical-align: top;\n",
       "    }\n",
       "\n",
       "    .dataframe thead th {\n",
       "        text-align: right;\n",
       "    }\n",
       "</style>\n",
       "<table border=\"1\" class=\"dataframe\">\n",
       "  <thead>\n",
       "    <tr style=\"text-align: right;\">\n",
       "      <th></th>\n",
       "      <th>imdb_rating</th>\n",
       "      <th>users_vote</th>\n",
       "    </tr>\n",
       "    <tr>\n",
       "      <th>title</th>\n",
       "      <th></th>\n",
       "      <th></th>\n",
       "    </tr>\n",
       "  </thead>\n",
       "  <tbody>\n",
       "    <tr>\n",
       "      <th>The Mandalorian</th>\n",
       "      <td>8.7</td>\n",
       "      <td>221588</td>\n",
       "    </tr>\n",
       "    <tr>\n",
       "      <th>The Boys</th>\n",
       "      <td>8.7</td>\n",
       "      <td>218789</td>\n",
       "    </tr>\n",
       "    <tr>\n",
       "      <th>His Dark Materials</th>\n",
       "      <td>7.9</td>\n",
       "      <td>42536</td>\n",
       "    </tr>\n",
       "    <tr>\n",
       "      <th>Virgin River</th>\n",
       "      <td>7.5</td>\n",
       "      <td>12605</td>\n",
       "    </tr>\n",
       "    <tr>\n",
       "      <th>Mosul</th>\n",
       "      <td>7.3</td>\n",
       "      <td>10824</td>\n",
       "    </tr>\n",
       "  </tbody>\n",
       "</table>\n",
       "</div>"
      ],
      "text/plain": [
       "                    imdb_rating  users_vote\n",
       "title                                      \n",
       "The Mandalorian             8.7      221588\n",
       "The Boys                    8.7      218789\n",
       "His Dark Materials          7.9       42536\n",
       "Virgin River                7.5       12605\n",
       "Mosul                       7.3       10824"
      ]
     },
     "execution_count": 15,
     "metadata": {},
     "output_type": "execute_result"
    }
   ],
   "source": [
    "df = df.set_index('title')\n",
    "df.head()"
   ]
  },
  {
   "cell_type": "markdown",
   "metadata": {},
   "source": [
    "<!-- ### Implementing your webscrapping to the flask dashboard\n",
    "\n",
    "- Copy paste all of your web scrapping process to the desired position on the `app.py`\n",
    "- Changing the title of the dasboard at `index.html`\n",
    "-->"
   ]
  },
  {
   "cell_type": "markdown",
   "metadata": {},
   "source": [
    "## Finishing This Notebook with Your Analysis and Conclusion\n",
    "\n",
    "First you can do start with making the data visualisation. "
   ]
  },
  {
   "cell_type": "markdown",
   "metadata": {
    "ExecuteTime": {
     "end_time": "2020-11-28T17:34:30.652580Z",
     "start_time": "2020-11-28T17:34:30.646579Z"
    }
   },
   "source": [
    "### **(Q1)**: Find the seven most popular imdb movie (by `imdb_rating`)"
   ]
  },
  {
   "cell_type": "code",
   "execution_count": 16,
   "metadata": {
    "ExecuteTime": {
     "end_time": "2020-12-01T04:38:54.623422Z",
     "start_time": "2020-12-01T04:38:51.323835Z"
    }
   },
   "outputs": [
    {
     "name": "stderr",
     "output_type": "stream",
     "text": [
      "<ipython-input-16-415129cd0bb8>:9: MatplotlibDeprecationWarning: Using a string of single character colors as a color sequence is deprecated since 3.2 and will be removed two minor releases later. Use an explicit list instead.\n",
      "  plt.barh(x_axis, y_axis, color='crgbkym')\n"
     ]
    },
    {
     "data": {
      "image/png": "[encoded data removed]",
      "text/plain": [
       "<Figure size 432x288 with 1 Axes>"
      ]
     },
     "metadata": {
      "needs_background": "light"
     },
     "output_type": "display_data"
    }
   ],
   "source": [
    "#stock.stack().reset_index().pivot_table(index = 'Symbols',values = 'Volume').sort_values('Volume').plot.barh()\n",
    "import matplotlib.pyplot as plt\n",
    "import numpy as np\n",
    "\n",
    "topseven_by_imdbrating = df.sort_values('imdb_rating')['imdb_rating'].head(6).reset_index()\n",
    "x_axis = topseven_by_imdbrating['title']\n",
    "y_axis = topseven_by_imdbrating['imdb_rating']\n",
    "\n",
    "plt.barh(x_axis, y_axis, color='crgbkym')\n",
    "plt.xlabel('imdb score', fontsize=16)\n",
    "plt.ylabel('title', fontsize=16)\n",
    "plt.title('Top 7 most popular movie in 2019 by imdb score',fontsize=20)\n",
    "plt.show()"
   ]
  },
  {
   "cell_type": "markdown",
   "metadata": {},
   "source": [
    "### **(Q2)**: Find the seven most popular imdb movie (by `users_vote`)"
   ]
  },
  {
   "cell_type": "code",
   "execution_count": 17,
   "metadata": {
    "ExecuteTime": {
     "end_time": "2020-12-01T04:38:54.839498Z",
     "start_time": "2020-12-01T04:38:54.626411Z"
    }
   },
   "outputs": [
    {
     "name": "stderr",
     "output_type": "stream",
     "text": [
      "<ipython-input-17-cfd2283e4cd9>:8: MatplotlibDeprecationWarning: Using a string of single character colors as a color sequence is deprecated since 3.2 and will be removed two minor releases later. Use an explicit list instead.\n",
      "  plt.barh(x_axis, y_axis, color='crgbkym')\n"
     ]
    },
    {
     "data": {
      "image/png": "[encoded data removed]",
      "text/plain": [
       "<Figure size 432x288 with 1 Axes>"
      ]
     },
     "metadata": {
      "needs_background": "light"
     },
     "output_type": "display_data"
    }
   ],
   "source": [
    "#df.sort_values(by='users_vote', ascending=True)['users_vote'].head(6).plot(kind='barh')\n",
    "\n",
    "topseven_by_usersvote = df.sort_values('users_vote')['users_vote'].head(6).reset_index()\n",
    "topseven_by_usersvote\n",
    "x_axis = topseven_by_usersvote['title']\n",
    "y_axis = topseven_by_usersvote['users_vote']\n",
    "\n",
    "plt.barh(x_axis, y_axis, color='crgbkym')\n",
    "plt.xlabel('Users Vote', fontsize=16)\n",
    "plt.ylabel('title', fontsize=16)\n",
    "plt.title('Top 7 most popular movie in 2019 by Users Vote',fontsize=20)\n",
    "plt.show()"
   ]
  },
  {
   "cell_type": "code",
   "execution_count": 18,
   "metadata": {
    "ExecuteTime": {
     "end_time": "2020-12-01T04:38:54.857499Z",
     "start_time": "2020-12-01T04:38:54.842516Z"
    }
   },
   "outputs": [
    {
     "data": {
      "text/html": [
       "<div>\n",
       "<style scoped>\n",
       "    .dataframe tbody tr th:only-of-type {\n",
       "        vertical-align: middle;\n",
       "    }\n",
       "\n",
       "    .dataframe tbody tr th {\n",
       "        vertical-align: top;\n",
       "    }\n",
       "\n",
       "    .dataframe thead th {\n",
       "        text-align: right;\n",
       "    }\n",
       "</style>\n",
       "<table border=\"1\" class=\"dataframe\">\n",
       "  <thead>\n",
       "    <tr style=\"text-align: right;\">\n",
       "      <th></th>\n",
       "      <th>title</th>\n",
       "      <th>users_vote</th>\n",
       "    </tr>\n",
       "  </thead>\n",
       "  <tbody>\n",
       "    <tr>\n",
       "      <th>15</th>\n",
       "      <td>Joker</td>\n",
       "      <td>901863</td>\n",
       "    </tr>\n",
       "    <tr>\n",
       "      <th>14</th>\n",
       "      <td>Avengers: Endgame</td>\n",
       "      <td>783374</td>\n",
       "    </tr>\n",
       "    <tr>\n",
       "      <th>9</th>\n",
       "      <td>Once Upon a Time... in Hollywood</td>\n",
       "      <td>531618</td>\n",
       "    </tr>\n",
       "    <tr>\n",
       "      <th>23</th>\n",
       "      <td>Chernobyl</td>\n",
       "      <td>514500</td>\n",
       "    </tr>\n",
       "    <tr>\n",
       "      <th>13</th>\n",
       "      <td>Gisaengchung</td>\n",
       "      <td>513722</td>\n",
       "    </tr>\n",
       "  </tbody>\n",
       "</table>\n",
       "</div>"
      ],
      "text/plain": [
       "                               title  users_vote\n",
       "15                             Joker      901863\n",
       "14                 Avengers: Endgame      783374\n",
       "9   Once Upon a Time... in Hollywood      531618\n",
       "23                         Chernobyl      514500\n",
       "13                      Gisaengchung      513722"
      ]
     },
     "execution_count": 18,
     "metadata": {},
     "output_type": "execute_result"
    }
   ],
   "source": [
    "df_mostvotes = df.reset_index().sort_values('users_vote', ascending = False)\\\n",
    "                [['title', 'users_vote']]\n",
    "#df_mostvotes.shape\n",
    "df_mostvotes.head()#['imdb_rating'].head(1)#['title']"
   ]
  },
  {
   "cell_type": "code",
   "execution_count": 19,
   "metadata": {
    "ExecuteTime": {
     "end_time": "2020-12-01T04:38:54.868506Z",
     "start_time": "2020-12-01T04:38:54.860499Z"
    }
   },
   "outputs": [
    {
     "data": {
      "text/plain": [
       "15    901863\n",
       "Name: users_vote, dtype: int32"
      ]
     },
     "execution_count": 19,
     "metadata": {},
     "output_type": "execute_result"
    }
   ],
   "source": [
    "#get value of highest user vote\n",
    "top_vote_value =  df_mostvotes['users_vote'].head(1)\n",
    "top_vote_value\n",
    "#type(top_vote_value)"
   ]
  },
  {
   "cell_type": "code",
   "execution_count": 20,
   "metadata": {
    "ExecuteTime": {
     "end_time": "2020-12-01T04:38:54.879501Z",
     "start_time": "2020-12-01T04:38:54.872501Z"
    }
   },
   "outputs": [
    {
     "data": {
      "text/plain": [
       "15    Joker\n",
       "Name: title, dtype: object"
      ]
     },
     "execution_count": 20,
     "metadata": {},
     "output_type": "execute_result"
    }
   ],
   "source": [
    "#get top movies w/ highest number of user vote\n",
    "top_vote_movie =  df_mostvotes['title'].head(1)\n",
    "top_vote_movie"
   ]
  },
  {
   "cell_type": "markdown",
   "metadata": {},
   "source": [
    "### **(Q3)** See the distribution based on `imdb_rating`"
   ]
  },
  {
   "cell_type": "code",
   "execution_count": 21,
   "metadata": {
    "ExecuteTime": {
     "end_time": "2020-12-01T04:38:54.892503Z",
     "start_time": "2020-12-01T04:38:54.882503Z"
    }
   },
   "outputs": [
    {
     "data": {
      "text/plain": [
       "7.9    6\n",
       "8.4    4\n",
       "7.6    4\n",
       "8.2    3\n",
       "8.7    2\n",
       "6.8    2\n",
       "7.3    2\n",
       "8.1    2\n",
       "7.5    2\n",
       "7.8    2\n",
       "8.3    2\n",
       "6.3    1\n",
       "5.0    1\n",
       "8.5    1\n",
       "6.5    1\n",
       "5.5    1\n",
       "5.7    1\n",
       "6.2    1\n",
       "5.3    1\n",
       "7.4    1\n",
       "6.7    1\n",
       "6.1    1\n",
       "7.2    1\n",
       "9.4    1\n",
       "8.6    1\n",
       "6.6    1\n",
       "4.7    1\n",
       "7.1    1\n",
       "2.8    1\n",
       "7.7    1\n",
       "Name: imdb_rating, dtype: int64"
      ]
     },
     "execution_count": 21,
     "metadata": {},
     "output_type": "execute_result"
    }
   ],
   "source": [
    "#1. create the `imdb_rating` frequencies data\n",
    "df2 = df.reset_index()['imdb_rating'].value_counts()\n",
    "df2\n",
    "#df3 = pd.DataFrame(df2, columns=('freq', 'count'))\n",
    "#df3"
   ]
  },
  {
   "cell_type": "code",
   "execution_count": 22,
   "metadata": {
    "ExecuteTime": {
     "end_time": "2020-12-01T04:38:54.911519Z",
     "start_time": "2020-12-01T04:38:54.895505Z"
    }
   },
   "outputs": [
    {
     "data": {
      "text/plain": [
       "count    50.000000\n",
       "mean      7.366000\n",
       "std       1.219336\n",
       "min       2.800000\n",
       "25%       6.800000\n",
       "50%       7.650000\n",
       "75%       8.200000\n",
       "max       9.400000\n",
       "Name: imdb_rating, dtype: float64"
      ]
     },
     "execution_count": 22,
     "metadata": {},
     "output_type": "execute_result"
    }
   ],
   "source": [
    "#2. see the imdb_rating basic stats.\n",
    "df.reset_index()['imdb_rating'].describe()"
   ]
  },
  {
   "cell_type": "markdown",
   "metadata": {},
   "source": [
    "Among this dataset (50 movies), the average `imdb rating` is 7.36 , while the std.deviation is 1.22"
   ]
  },
  {
   "cell_type": "code",
   "execution_count": 23,
   "metadata": {
    "ExecuteTime": {
     "end_time": "2020-12-01T04:38:56.451355Z",
     "start_time": "2020-12-01T04:38:54.914522Z"
    }
   },
   "outputs": [
    {
     "data": {
      "text/plain": [
       "<AxesSubplot:>"
      ]
     },
     "execution_count": 23,
     "metadata": {},
     "output_type": "execute_result"
    },
    {
     "data": {
      "image/png": "[encoded data removed]",
      "text/plain": [
       "<Figure size 432x288 with 1 Axes>"
      ]
     },
     "metadata": {
      "needs_background": "light"
     },
     "output_type": "display_data"
    }
   ],
   "source": [
    "df.reset_index()['imdb_rating'].plot.box()"
   ]
  },
  {
   "cell_type": "markdown",
   "metadata": {},
   "source": [
    "- based on the box plot diagram, the distribution of data (`imdb rating`) is mostly in the range of 6.8 to 7.2 with data averages 7.4\n",
    "-  there's an outlier `imdb rating` (2.8) that is far from the lower iqr."
   ]
  },
  {
   "cell_type": "code",
   "execution_count": 24,
   "metadata": {
    "ExecuteTime": {
     "end_time": "2020-12-01T04:38:56.459334Z",
     "start_time": "2020-12-01T04:38:56.452350Z"
    }
   },
   "outputs": [
    {
     "data": {
      "text/plain": [
       "-1.4972214820600838"
      ]
     },
     "execution_count": 24,
     "metadata": {},
     "output_type": "execute_result"
    }
   ],
   "source": [
    "df['imdb_rating'].skew()"
   ]
  },
  {
   "cell_type": "code",
   "execution_count": 25,
   "metadata": {
    "ExecuteTime": {
     "end_time": "2020-12-01T04:38:56.696374Z",
     "start_time": "2020-12-01T04:38:56.464337Z"
    },
    "scrolled": false
   },
   "outputs": [
    {
     "data": {
      "text/plain": [
       "(array([ 1.,  0.,  1.,  2.,  2.,  6.,  7., 15., 15.,  1.]),\n",
       " array([2.8 , 3.46, 4.12, 4.78, 5.44, 6.1 , 6.76, 7.42, 8.08, 8.74, 9.4 ]),\n",
       " <BarContainer object of 10 artists>)"
      ]
     },
     "execution_count": 25,
     "metadata": {},
     "output_type": "execute_result"
    },
    {
     "data": {
      "image/png": "[encoded data removed]",
      "text/plain": [
       "<Figure size 432x288 with 1 Axes>"
      ]
     },
     "metadata": {},
     "output_type": "display_data"
    }
   ],
   "source": [
    "plt.style.use('ggplot')\n",
    "#plt.hist(df.reset_index()['imdb_rating'], bins = 10, range = (0,10))\n",
    "plt.hist(df.reset_index()['imdb_rating'])\n",
    "#plt.set_title('IMDb Rating distribution')"
   ]
  },
  {
   "cell_type": "markdown",
   "metadata": {
    "ExecuteTime": {
     "end_time": "2020-11-30T10:34:03.127198Z",
     "start_time": "2020-11-30T10:34:03.108209Z"
    }
   },
   "source": [
    "- the `imdb rating` data has negative skew, which means the more data lie below the mean (as shown in histogram plot) "
   ]
  },
  {
   "cell_type": "markdown",
   "metadata": {},
   "source": [
    "### **(Q4)** See the distribution based on `users_vote`"
   ]
  },
  {
   "cell_type": "code",
   "execution_count": 26,
   "metadata": {
    "ExecuteTime": {
     "end_time": "2020-12-01T04:38:56.723409Z",
     "start_time": "2020-12-01T04:38:56.698356Z"
    }
   },
   "outputs": [
    {
     "data": {
      "text/plain": [
       "279166    1\n",
       "531618    1\n",
       "210614    1\n",
       "180149    1\n",
       "275633    1\n",
       "208560    1\n",
       "144557    1\n",
       "283050    1\n",
       "42536     1\n",
       "221588    1\n",
       "218789    1\n",
       "394659    1\n",
       "133618    1\n",
       "3196      1\n",
       "80287     1\n",
       "45979     1\n",
       "60951     1\n",
       "42772     1\n",
       "35219     1\n",
       "1329      1\n",
       "783374    1\n",
       "12168     1\n",
       "53126     1\n",
       "2691      1\n",
       "13367     1\n",
       "513722    1\n",
       "50620     1\n",
       "12605     1\n",
       "39418     1\n",
       "314873    1\n",
       "136219    1\n",
       "32370     1\n",
       "10858     1\n",
       "80873     1\n",
       "901863    1\n",
       "359729    1\n",
       "420830    1\n",
       "86234     1\n",
       "728       1\n",
       "4345      1\n",
       "9551      1\n",
       "53838     1\n",
       "6454      1\n",
       "191422    1\n",
       "10824     1\n",
       "149317    1\n",
       "514500    1\n",
       "73409     1\n",
       "8638      1\n",
       "132994    1\n",
       "Name: users_vote, dtype: int64"
      ]
     },
     "execution_count": 26,
     "metadata": {},
     "output_type": "execute_result"
    }
   ],
   "source": [
    "#1. create the `users_vote` frequencies data\n",
    "df4= df.reset_index()['users_vote'].value_counts()\n",
    "df4"
   ]
  },
  {
   "cell_type": "code",
   "execution_count": 27,
   "metadata": {
    "ExecuteTime": {
     "end_time": "2020-12-01T04:38:56.740419Z",
     "start_time": "2020-12-01T04:38:56.725402Z"
    }
   },
   "outputs": [
    {
     "data": {
      "text/plain": [
       "count        50.000000\n",
       "mean     167504.600000\n",
       "std      203559.675392\n",
       "min         728.000000\n",
       "25%       18117.750000\n",
       "50%       80580.000000\n",
       "75%      220888.250000\n",
       "max      901863.000000\n",
       "Name: users_vote, dtype: float64"
      ]
     },
     "execution_count": 27,
     "metadata": {},
     "output_type": "execute_result"
    }
   ],
   "source": [
    "#2. see the imdb_rating basic stats.\n",
    "df.reset_index()['users_vote'].describe()"
   ]
  },
  {
   "cell_type": "markdown",
   "metadata": {},
   "source": [
    "Among this dataset (50 movies), the average `users vote` is 167,492.32, while the std.deviation is 203,554.56"
   ]
  },
  {
   "cell_type": "code",
   "execution_count": 28,
   "metadata": {
    "ExecuteTime": {
     "end_time": "2020-12-01T04:38:56.888407Z",
     "start_time": "2020-12-01T04:38:56.743397Z"
    }
   },
   "outputs": [
    {
     "data": {
      "text/plain": [
       "<AxesSubplot:>"
      ]
     },
     "execution_count": 28,
     "metadata": {},
     "output_type": "execute_result"
    },
    {
     "data": {
      "image/png": "[encoded data removed]",
      "text/plain": [
       "<Figure size 432x288 with 1 Axes>"
      ]
     },
     "metadata": {},
     "output_type": "display_data"
    }
   ],
   "source": [
    "df.reset_index()['users_vote'].plot.box()"
   ]
  },
  {
   "cell_type": "markdown",
   "metadata": {},
   "source": [
    "- based on the box plot diagram, the distribution of data (`imdb rating`) is mostly in the range of 18,114 to 22,0847 with data averages (mean) 167,492.32\n",
    "- there're 3 outlier `user data` data  that is fhigher than the upper inner fence."
   ]
  },
  {
   "cell_type": "code",
   "execution_count": 29,
   "metadata": {
    "ExecuteTime": {
     "end_time": "2020-12-01T04:38:56.896413Z",
     "start_time": "2020-12-01T04:38:56.890408Z"
    }
   },
   "outputs": [
    {
     "data": {
      "text/plain": [
       "1.8386592221144618"
      ]
     },
     "execution_count": 29,
     "metadata": {},
     "output_type": "execute_result"
    }
   ],
   "source": [
    "df['users_vote'].skew()"
   ]
  },
  {
   "cell_type": "code",
   "execution_count": 30,
   "metadata": {
    "ExecuteTime": {
     "end_time": "2020-12-01T04:38:57.069439Z",
     "start_time": "2020-12-01T04:38:56.899411Z"
    }
   },
   "outputs": [
    {
     "data": {
      "text/plain": [
       "(array([27.,  6.,  5.,  5.,  2.,  3.,  0.,  0.,  1.,  1.]),\n",
       " array([7.280000e+02, 9.084150e+04, 1.809550e+05, 2.710685e+05,\n",
       "        3.611820e+05, 4.512955e+05, 5.414090e+05, 6.315225e+05,\n",
       "        7.216360e+05, 8.117495e+05, 9.018630e+05]),\n",
       " <BarContainer object of 10 artists>)"
      ]
     },
     "execution_count": 30,
     "metadata": {},
     "output_type": "execute_result"
    },
    {
     "data": {
      "image/png": "[encoded data removed]",
      "text/plain": [
       "<Figure size 432x288 with 1 Axes>"
      ]
     },
     "metadata": {},
     "output_type": "display_data"
    }
   ],
   "source": [
    "plt.style.use('ggplot')\n",
    "#plt.hist(df.reset_index()['users_vote'], bins = 10, range = (0,10))\n",
    "plt.hist(df.reset_index()['users_vote'])\n",
    "#plt.set_title('imdb user vote Rating distribution')"
   ]
  },
  {
   "cell_type": "markdown",
   "metadata": {},
   "source": [
    "- the `user vote` data has positive skew, which means the more data lie above the means (as shown in histogram plot)"
   ]
  },
  {
   "cell_type": "markdown",
   "metadata": {},
   "source": [
    "## Dashboard\n",
    "\n",
    "After all, the plots above is display in a web dashboard using Flask.\n",
    "<img src=\"full_capstone.png\">"
   ]
  }
 ],
 "metadata": {
  "kernelspec": {
   "display_name": "caps_webscrap1",
   "language": "python",
   "name": "venv_webscrap1"
  },
  "language_info": {
   "codemirror_mode": {
    "name": "ipython",
    "version": 3
   },
   "file_extension": ".py",
   "mimetype": "text/x-python",
   "name": "python",
   "nbconvert_exporter": "python",
   "pygments_lexer": "ipython3",
   "version": "3.8.5"
  },
  "latex_envs": {
   "LaTeX_envs_menu_present": true,
   "autoclose": false,
   "autocomplete": true,
   "bibliofile": "biblio.bib",
   "cite_by": "apalike",
   "current_citInitial": 1,
   "eqLabelWithNumbers": true,
   "eqNumInitial": 1,
   "hotkeys": {
    "equation": "Ctrl-E",
    "itemize": "Ctrl-I"
   },
   "labels_anchors": false,
   "latex_user_defs": false,
   "report_style_numbering": false,
   "user_envs_cfg": false
  },
  "toc": {
   "base_numbering": 1,
   "nav_menu": {},
   "number_sections": true,
   "sideBar": true,
   "skip_h1_title": false,
   "title_cell": "Table of Contents",
   "title_sidebar": "Contents",
   "toc_cell": true,
   "toc_position": {
    "height": "calc(100% - 180px)",
    "left": "10px",
    "top": "150px",
    "width": "174.933px"
   },
   "toc_section_display": true,
   "toc_window_display": true
  }
 },
 "nbformat": 4,
 "nbformat_minor": 2
}
